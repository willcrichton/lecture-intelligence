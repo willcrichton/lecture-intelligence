{
 "cells": [
  {
   "cell_type": "code",
   "execution_count": 3,
   "metadata": {},
   "outputs": [
    {
     "name": "stdout",
     "output_type": "stream",
     "text": [
      "The autoreload extension is already loaded. To reload it, use:\n",
      "  %reload_ext autoreload\n"
     ]
    }
   ],
   "source": [
    "%load_ext autoreload\n",
    "%autoreload 2\n",
    "\n",
    "import sys\n",
    "sys.path.append('..')\n",
    "from lib.vis import plot_session_intervals\n",
    "from lib.course import LECTURES, ASSIGNMENTS, IDX_TO_LECTURE, IDX_TO_ASSIGNMENT\n",
    "import numpy as np\n",
    "import matplotlib.pyplot as plt\n",
    "from datetime import timedelta, date\n",
    "import datetime as dt\n",
    "import pandas as pd\n",
    "import seaborn as sns\n",
    "# Pause data\n",
    "import matplotlib as mpl\n",
    "import matplotlib.dates as md"
   ]
  },
  {
   "cell_type": "code",
   "execution_count": 6,
   "metadata": {},
   "outputs": [
    {
     "name": "stdout",
     "output_type": "stream",
     "text": [
      "5351\n"
     ]
    },
    {
     "ename": "NameError",
     "evalue": "name 'ax' is not defined",
     "output_type": "error",
     "traceback": [
      "\u001b[0;31m---------------------------------------------------------------------------\u001b[0m",
      "\u001b[0;31mNameError\u001b[0m                                 Traceback (most recent call last)",
      "\u001b[0;32m<ipython-input-6-8a84e8aec6f3>\u001b[0m in \u001b[0;36m<module>\u001b[0;34m()\u001b[0m\n\u001b[1;32m     24\u001b[0m \u001b[0mtime\u001b[0m \u001b[0;34m=\u001b[0m \u001b[0;34m[\u001b[0m\u001b[0mpd\u001b[0m\u001b[0;34m.\u001b[0m\u001b[0mTimestamp\u001b[0m\u001b[0;34m(\u001b[0m\u001b[0mi\u001b[0m \u001b[0;34m*\u001b[0m \u001b[0;36m1e9\u001b[0m\u001b[0;34m)\u001b[0m \u001b[0;32mfor\u001b[0m \u001b[0mi\u001b[0m \u001b[0;32min\u001b[0m \u001b[0mrange\u001b[0m\u001b[0;34m(\u001b[0m\u001b[0;36m0\u001b[0m\u001b[0;34m,\u001b[0m \u001b[0mint\u001b[0m\u001b[0;34m(\u001b[0m\u001b[0mmax_time\u001b[0m\u001b[0;34m/\u001b[0m\u001b[0;36m60\u001b[0m\u001b[0;34m)\u001b[0m\u001b[0;34m+\u001b[0m\u001b[0;36m1\u001b[0m\u001b[0;34m)\u001b[0m\u001b[0;34m]\u001b[0m\u001b[0;34m\u001b[0m\u001b[0m\n\u001b[1;32m     25\u001b[0m \u001b[0mxfmt\u001b[0m \u001b[0;34m=\u001b[0m \u001b[0mmd\u001b[0m\u001b[0;34m.\u001b[0m\u001b[0mDateFormatter\u001b[0m\u001b[0;34m(\u001b[0m\u001b[0;34m'%H:%M:%S'\u001b[0m\u001b[0;34m)\u001b[0m\u001b[0;34m\u001b[0m\u001b[0m\n\u001b[0;32m---> 26\u001b[0;31m \u001b[0max\u001b[0m\u001b[0;34m.\u001b[0m\u001b[0mxaxis\u001b[0m\u001b[0;34m.\u001b[0m\u001b[0mset_major_formatter\u001b[0m\u001b[0;34m(\u001b[0m\u001b[0mxfmt\u001b[0m\u001b[0;34m)\u001b[0m\u001b[0;34m\u001b[0m\u001b[0m\n\u001b[0m\u001b[1;32m     27\u001b[0m \u001b[0mfig\u001b[0m\u001b[0;34m,\u001b[0m \u001b[0max\u001b[0m \u001b[0;34m=\u001b[0m \u001b[0mplt\u001b[0m\u001b[0;34m.\u001b[0m\u001b[0msubplots\u001b[0m\u001b[0;34m(\u001b[0m\u001b[0;34m)\u001b[0m\u001b[0;34m\u001b[0m\u001b[0m\n\u001b[1;32m     28\u001b[0m ax = pd.DataFrame({\n",
      "\u001b[0;31mNameError\u001b[0m: name 'ax' is not defined"
     ]
    }
   ],
   "source": [
    "# Heatmap for rewind data\n",
    "lecture = LECTURES[1]\n",
    "df = lecture.viewing_data()\n",
    "users = df.groupby(\"user\")\n",
    "users.head()\n",
    "counts = []\n",
    "user_ids = []\n",
    "threshold = 3000\n",
    "\n",
    "max_time = int(df.end.max())+1\n",
    "print(max_time)\n",
    "bins = [0 for _ in range(0, int(max_time/60)+1)]\n",
    "\n",
    "for person in users:\n",
    "    user_ids.append(person[0])\n",
    "    count = 0\n",
    "    start_times = person[1][\"start\"].values\n",
    "    end_times = person[1][\"end\"].values\n",
    "    for val in range(len(start_times) - 1):\n",
    "        if end_times[val] > (start_times[val+1] + threshold):\n",
    "            count+=1\n",
    "            for i in range(int(start_times[val+1]/60), int(end_times[val]/60)):\n",
    "                bins[int(np.floor(i))] += 1\n",
    "time = [pd.Timestamp(i * 1e9) for i in range(0, int(max_time/60)+1)]\n",
    "xfmt = md.DateFormatter('%H:%M:%S')\n",
    "fig, ax = plt.subplots()\n",
    "\n",
    "ax.xaxis.set_major_formatter(xfmt)\n",
    "ax = pd.DataFrame({\n",
    "    'viewers': bins,\n",
    "    'time': time\n",
    "}).plot('time', 'viewers', figsize=(15, 5), legend=False, ax=ax)\n",
    "#         ax.set_title(\n",
    "#             f'Total pauses by minute for \"{IDX_TO_LECTURE[lec].name}\"')\n",
    "ax.set_ylabel('Number of students rewinding at time')\n",
    "plt.tight_layout() # Fix bug that crops the ticks label\n",
    "plt.show()\n",
    "# plt.savefig('lect_lambda.pdf', dpi=300)\n",
    "plt.plot(time, bins)\n",
    "print(bins)"
   ]
  },
  {
   "cell_type": "code",
   "execution_count": null,
   "metadata": {},
   "outputs": [],
   "source": []
  }
 ],
 "metadata": {
  "kernelspec": {
   "display_name": "Python 3",
   "language": "python",
   "name": "python3"
  },
  "language_info": {
   "codemirror_mode": {
    "name": "ipython",
    "version": 3
   },
   "file_extension": ".py",
   "mimetype": "text/x-python",
   "name": "python",
   "nbconvert_exporter": "python",
   "pygments_lexer": "ipython3",
   "version": "3.6.4"
  }
 },
 "nbformat": 4,
 "nbformat_minor": 2
}
