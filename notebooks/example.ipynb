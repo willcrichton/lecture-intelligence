{
 "cells": [
  {
   "cell_type": "code",
   "execution_count": 2,
   "metadata": {
    "ExecuteTime": {
     "end_time": "2019-11-06T18:46:54.342223Z",
     "start_time": "2019-11-06T18:46:54.319605Z"
    }
   },
   "outputs": [],
   "source": [
    "%load_ext autoreload\n",
    "%autoreload 2"
   ]
  },
  {
   "cell_type": "code",
   "execution_count": 3,
   "metadata": {
    "ExecuteTime": {
     "end_time": "2019-11-06T18:46:55.496866Z",
     "start_time": "2019-11-06T18:46:54.458647Z"
    }
   },
   "outputs": [],
   "source": [
    "import sys\n",
    "sys.path.append('..')\n",
    "from lib.etl import parse_canvas_csv\n",
    "from lib.vis import plot_session_intervals"
   ]
  },
  {
   "cell_type": "code",
   "execution_count": 5,
   "metadata": {
    "ExecuteTime": {
     "end_time": "2019-11-06T18:47:09.674767Z",
     "start_time": "2019-11-06T18:47:09.642093Z"
    }
   },
   "outputs": [],
   "source": [
    "df = parse_canvas_csv('../data/10_9_2019.csv')"
   ]
  },
  {
   "cell_type": "code",
   "execution_count": 6,
   "metadata": {
    "ExecuteTime": {
     "end_time": "2019-11-06T18:47:10.513808Z",
     "start_time": "2019-11-06T18:47:10.468764Z"
    }
   },
   "outputs": [
    {
     "data": {
      "text/html": [
       "<div>\n",
       "<style scoped>\n",
       "    .dataframe tbody tr th:only-of-type {\n",
       "        vertical-align: middle;\n",
       "    }\n",
       "\n",
       "    .dataframe tbody tr th {\n",
       "        vertical-align: top;\n",
       "    }\n",
       "\n",
       "    .dataframe thead th {\n",
       "        text-align: right;\n",
       "    }\n",
       "</style>\n",
       "<table border=\"1\" class=\"dataframe\">\n",
       "  <thead>\n",
       "    <tr style=\"text-align: right;\">\n",
       "      <th></th>\n",
       "      <th>Timestamp</th>\n",
       "      <th>Start Position</th>\n",
       "      <th>Minutes Delivered</th>\n",
       "      <th>User ID</th>\n",
       "      <th>End Position</th>\n",
       "    </tr>\n",
       "  </thead>\n",
       "  <tbody>\n",
       "    <tr>\n",
       "      <td>29</td>\n",
       "      <td>2019-10-09 19:46:14</td>\n",
       "      <td>0.000000</td>\n",
       "      <td>0.030666</td>\n",
       "      <td>5cb72e04-e0fb-4480-89c4-a8630163f37f</td>\n",
       "      <td>1.839933</td>\n",
       "    </tr>\n",
       "    <tr>\n",
       "      <td>30</td>\n",
       "      <td>2019-10-09 21:10:12</td>\n",
       "      <td>319.812849</td>\n",
       "      <td>0.111936</td>\n",
       "      <td>5cb72e04-e0fb-4480-89c4-a8630163f37f</td>\n",
       "      <td>326.528991</td>\n",
       "    </tr>\n",
       "    <tr>\n",
       "      <td>31</td>\n",
       "      <td>2019-10-09 21:10:41</td>\n",
       "      <td>326.599491</td>\n",
       "      <td>1.225632</td>\n",
       "      <td>5cb72e04-e0fb-4480-89c4-a8630163f37f</td>\n",
       "      <td>400.137405</td>\n",
       "    </tr>\n",
       "    <tr>\n",
       "      <td>32</td>\n",
       "      <td>2019-10-09 21:34:42</td>\n",
       "      <td>400.269621</td>\n",
       "      <td>0.478510</td>\n",
       "      <td>5cb72e04-e0fb-4480-89c4-a8630163f37f</td>\n",
       "      <td>428.980235</td>\n",
       "    </tr>\n",
       "    <tr>\n",
       "      <td>33</td>\n",
       "      <td>2019-10-09 21:38:41</td>\n",
       "      <td>429.096408</td>\n",
       "      <td>2.115631</td>\n",
       "      <td>5cb72e04-e0fb-4480-89c4-a8630163f37f</td>\n",
       "      <td>556.034290</td>\n",
       "    </tr>\n",
       "    <tr>\n",
       "      <td>...</td>\n",
       "      <td>...</td>\n",
       "      <td>...</td>\n",
       "      <td>...</td>\n",
       "      <td>...</td>\n",
       "      <td>...</td>\n",
       "    </tr>\n",
       "    <tr>\n",
       "      <td>1726</td>\n",
       "      <td>2019-10-09 23:54:09</td>\n",
       "      <td>1564.066752</td>\n",
       "      <td>0.209900</td>\n",
       "      <td>7ca39010-b30b-4099-adf9-aae2006c5729</td>\n",
       "      <td>1576.660748</td>\n",
       "    </tr>\n",
       "    <tr>\n",
       "      <td>1727</td>\n",
       "      <td>2019-10-09 23:59:09</td>\n",
       "      <td>1576.775321</td>\n",
       "      <td>0.552575</td>\n",
       "      <td>7ca39010-b30b-4099-adf9-aae2006c5729</td>\n",
       "      <td>1609.929823</td>\n",
       "    </tr>\n",
       "    <tr>\n",
       "      <td>1728</td>\n",
       "      <td>2019-10-09 23:59:39</td>\n",
       "      <td>1652.830786</td>\n",
       "      <td>0.052922</td>\n",
       "      <td>7ca39010-b30b-4099-adf9-aae2006c5729</td>\n",
       "      <td>1656.006085</td>\n",
       "    </tr>\n",
       "    <tr>\n",
       "      <td>1729</td>\n",
       "      <td>2019-10-09 23:59:39</td>\n",
       "      <td>1681.090085</td>\n",
       "      <td>0.052488</td>\n",
       "      <td>7ca39010-b30b-4099-adf9-aae2006c5729</td>\n",
       "      <td>1684.239349</td>\n",
       "    </tr>\n",
       "    <tr>\n",
       "      <td>1730</td>\n",
       "      <td>2019-10-09 23:59:39</td>\n",
       "      <td>1724.984401</td>\n",
       "      <td>14.793902</td>\n",
       "      <td>7ca39010-b30b-4099-adf9-aae2006c5729</td>\n",
       "      <td>2612.618544</td>\n",
       "    </tr>\n",
       "  </tbody>\n",
       "</table>\n",
       "<p>285 rows × 5 columns</p>\n",
       "</div>"
      ],
      "text/plain": [
       "               Timestamp  Start Position  Minutes Delivered  \\\n",
       "29   2019-10-09 19:46:14        0.000000           0.030666   \n",
       "30   2019-10-09 21:10:12      319.812849           0.111936   \n",
       "31   2019-10-09 21:10:41      326.599491           1.225632   \n",
       "32   2019-10-09 21:34:42      400.269621           0.478510   \n",
       "33   2019-10-09 21:38:41      429.096408           2.115631   \n",
       "...                  ...             ...                ...   \n",
       "1726 2019-10-09 23:54:09     1564.066752           0.209900   \n",
       "1727 2019-10-09 23:59:09     1576.775321           0.552575   \n",
       "1728 2019-10-09 23:59:39     1652.830786           0.052922   \n",
       "1729 2019-10-09 23:59:39     1681.090085           0.052488   \n",
       "1730 2019-10-09 23:59:39     1724.984401          14.793902   \n",
       "\n",
       "                                   User ID  End Position  \n",
       "29    5cb72e04-e0fb-4480-89c4-a8630163f37f      1.839933  \n",
       "30    5cb72e04-e0fb-4480-89c4-a8630163f37f    326.528991  \n",
       "31    5cb72e04-e0fb-4480-89c4-a8630163f37f    400.137405  \n",
       "32    5cb72e04-e0fb-4480-89c4-a8630163f37f    428.980235  \n",
       "33    5cb72e04-e0fb-4480-89c4-a8630163f37f    556.034290  \n",
       "...                                    ...           ...  \n",
       "1726  7ca39010-b30b-4099-adf9-aae2006c5729   1576.660748  \n",
       "1727  7ca39010-b30b-4099-adf9-aae2006c5729   1609.929823  \n",
       "1728  7ca39010-b30b-4099-adf9-aae2006c5729   1656.006085  \n",
       "1729  7ca39010-b30b-4099-adf9-aae2006c5729   1684.239349  \n",
       "1730  7ca39010-b30b-4099-adf9-aae2006c5729   2612.618544  \n",
       "\n",
       "[285 rows x 5 columns]"
      ]
     },
     "execution_count": 6,
     "metadata": {},
     "output_type": "execute_result"
    }
   ],
   "source": [
    "df[df['Timestamp'].dt.day == 9]"
   ]
  },
  {
   "cell_type": "code",
   "execution_count": 7,
   "metadata": {
    "ExecuteTime": {
     "end_time": "2019-11-06T18:47:11.131041Z",
     "start_time": "2019-11-06T18:47:10.680950Z"
    }
   },
   "outputs": [
    {
     "data": {
      "image/png": "[encoded data removed]",
      "text/plain": [
       "<Figure size 1080x360 with 1 Axes>"
      ]
     },
     "metadata": {
      "needs_background": "light"
     },
     "output_type": "display_data"
    }
   ],
   "source": [
    "user_ids = df['User ID'].unique()\n",
    "plot_session_intervals(df[df['User ID'] == user_ids[0]])"
   ]
  }
 ],
 "metadata": {
  "kernelspec": {
   "display_name": "Python 3",
   "language": "python",
   "name": "python3"
  },
  "language_info": {
   "codemirror_mode": {
    "name": "ipython",
    "version": 3
   },
   "file_extension": ".py",
   "mimetype": "text/x-python",
   "name": "python",
   "nbconvert_exporter": "python",
   "pygments_lexer": "ipython3",
   "version": "3.7.3"
  },
  "toc": {
   "base_numbering": 1,
   "nav_menu": {},
   "number_sections": true,
   "sideBar": true,
   "skip_h1_title": false,
   "title_cell": "Table of Contents",
   "title_sidebar": "Contents",
   "toc_cell": false,
   "toc_position": {},
   "toc_section_display": true,
   "toc_window_display": false
  },
  "varInspector": {
   "cols": {
    "lenName": 16,
    "lenType": 16,
    "lenVar": 40
   },
   "kernels_config": {
    "python": {
     "delete_cmd_postfix": "",
     "delete_cmd_prefix": "del ",
     "library": "var_list.py",
     "varRefreshCmd": "print(var_dic_list())"
    },
    "r": {
     "delete_cmd_postfix": ") ",
     "delete_cmd_prefix": "rm(",
     "library": "var_list.r",
     "varRefreshCmd": "cat(var_dic_list()) "
    }
   },
   "types_to_exclude": [
    "module",
    "function",
    "builtin_function_or_method",
    "instance",
    "_Feature"
   ],
   "window_display": false
  }
 },
 "nbformat": 4,
 "nbformat_minor": 2
}
