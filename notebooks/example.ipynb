{
 "cells": [
  {
   "cell_type": "code",
   "execution_count": 1,
   "metadata": {
    "ExecuteTime": {
     "end_time": "2019-11-06T07:52:48.785648Z",
     "start_time": "2019-11-06T07:52:48.766590Z"
    }
   },
   "outputs": [],
   "source": [
    "%load_ext autoreload\n",
    "%autoreload 2"
   ]
  },
  {
   "cell_type": "code",
   "execution_count": 2,
   "metadata": {
    "ExecuteTime": {
     "end_time": "2019-11-06T07:52:49.553046Z",
     "start_time": "2019-11-06T07:52:48.787650Z"
    }
   },
   "outputs": [],
   "source": [
    "import sys\n",
    "sys.path.append('..')\n",
    "from lib.etl import parse_canvas_csv\n",
    "from lib.vis import plot_session_intervals"
   ]
  },
  {
   "cell_type": "code",
   "execution_count": 3,
   "metadata": {
    "ExecuteTime": {
     "end_time": "2019-11-06T07:52:49.757202Z",
     "start_time": "2019-11-06T07:52:49.555097Z"
    }
   },
   "outputs": [],
   "source": [
    "df = parse_canvas_csv('../data/cs242-10-09-19.csv')"
   ]
  },
  {
   "cell_type": "code",
   "execution_count": 4,
   "metadata": {
    "ExecuteTime": {
     "end_time": "2019-11-06T07:52:49.790866Z",
     "start_time": "2019-11-06T07:52:49.759026Z"
    }
   },
   "outputs": [
    {
     "data": {
      "text/html": [
       "<div>\n",
       "<style scoped>\n",
       "    .dataframe tbody tr th:only-of-type {\n",
       "        vertical-align: middle;\n",
       "    }\n",
       "\n",
       "    .dataframe tbody tr th {\n",
       "        vertical-align: top;\n",
       "    }\n",
       "\n",
       "    .dataframe thead th {\n",
       "        text-align: right;\n",
       "    }\n",
       "</style>\n",
       "<table border=\"1\" class=\"dataframe\">\n",
       "  <thead>\n",
       "    <tr style=\"text-align: right;\">\n",
       "      <th></th>\n",
       "      <th>Timestamp</th>\n",
       "      <th>Start Position</th>\n",
       "      <th>Minutes Delivered</th>\n",
       "      <th>User ID</th>\n",
       "      <th>End Position</th>\n",
       "    </tr>\n",
       "  </thead>\n",
       "  <tbody>\n",
       "    <tr>\n",
       "      <td>0</td>\n",
       "      <td>2019-10-09 18:51:01</td>\n",
       "      <td>0.000000</td>\n",
       "      <td>1.946027</td>\n",
       "      <td>8ee54f28-a201-4095-8168-a864000a76e2</td>\n",
       "      <td>116.761616</td>\n",
       "    </tr>\n",
       "    <tr>\n",
       "      <td>1</td>\n",
       "      <td>2019-10-09 18:52:31</td>\n",
       "      <td>180.925525</td>\n",
       "      <td>0.458399</td>\n",
       "      <td>8ee54f28-a201-4095-8168-a864000a76e2</td>\n",
       "      <td>208.429480</td>\n",
       "    </tr>\n",
       "    <tr>\n",
       "      <td>2</td>\n",
       "      <td>2019-10-09 18:53:01</td>\n",
       "      <td>328.313291</td>\n",
       "      <td>0.017166</td>\n",
       "      <td>8ee54f28-a201-4095-8168-a864000a76e2</td>\n",
       "      <td>329.343236</td>\n",
       "    </tr>\n",
       "    <tr>\n",
       "      <td>3</td>\n",
       "      <td>2019-10-09 18:53:01</td>\n",
       "      <td>254.610307</td>\n",
       "      <td>16.395903</td>\n",
       "      <td>8ee54f28-a201-4095-8168-a864000a76e2</td>\n",
       "      <td>1238.364491</td>\n",
       "    </tr>\n",
       "    <tr>\n",
       "      <td>4</td>\n",
       "      <td>2019-10-09 19:09:31</td>\n",
       "      <td>1244.000000</td>\n",
       "      <td>0.200671</td>\n",
       "      <td>8ee54f28-a201-4095-8168-a864000a76e2</td>\n",
       "      <td>1256.040280</td>\n",
       "    </tr>\n",
       "    <tr>\n",
       "      <td>...</td>\n",
       "      <td>...</td>\n",
       "      <td>...</td>\n",
       "      <td>...</td>\n",
       "      <td>...</td>\n",
       "      <td>...</td>\n",
       "    </tr>\n",
       "    <tr>\n",
       "      <td>1719</td>\n",
       "      <td>2019-10-13 14:50:03</td>\n",
       "      <td>2310.462752</td>\n",
       "      <td>2.816567</td>\n",
       "      <td>53e0fae6-1d50-40be-bb16-a98901165365</td>\n",
       "      <td>2479.456770</td>\n",
       "    </tr>\n",
       "    <tr>\n",
       "      <td>1720</td>\n",
       "      <td>2019-10-13 14:53:15</td>\n",
       "      <td>2479.451670</td>\n",
       "      <td>0.020886</td>\n",
       "      <td>53e0fae6-1d50-40be-bb16-a98901165365</td>\n",
       "      <td>2480.704840</td>\n",
       "    </tr>\n",
       "    <tr>\n",
       "      <td>1721</td>\n",
       "      <td>2019-10-13 14:53:15</td>\n",
       "      <td>2480.700291</td>\n",
       "      <td>2.122695</td>\n",
       "      <td>53e0fae6-1d50-40be-bb16-a98901165365</td>\n",
       "      <td>2608.061977</td>\n",
       "    </tr>\n",
       "    <tr>\n",
       "      <td>1722</td>\n",
       "      <td>2019-10-13 14:55:15</td>\n",
       "      <td>2608.381327</td>\n",
       "      <td>5.695183</td>\n",
       "      <td>53e0fae6-1d50-40be-bb16-a98901165365</td>\n",
       "      <td>2950.092305</td>\n",
       "    </tr>\n",
       "    <tr>\n",
       "      <td>1723</td>\n",
       "      <td>2019-10-13 15:01:48</td>\n",
       "      <td>2950.101892</td>\n",
       "      <td>11.289709</td>\n",
       "      <td>53e0fae6-1d50-40be-bb16-a98901165365</td>\n",
       "      <td>3627.484435</td>\n",
       "    </tr>\n",
       "  </tbody>\n",
       "</table>\n",
       "<p>1724 rows × 5 columns</p>\n",
       "</div>"
      ],
      "text/plain": [
       "               Timestamp  Start Position  Minutes Delivered  \\\n",
       "0    2019-10-09 18:51:01        0.000000           1.946027   \n",
       "1    2019-10-09 18:52:31      180.925525           0.458399   \n",
       "2    2019-10-09 18:53:01      328.313291           0.017166   \n",
       "3    2019-10-09 18:53:01      254.610307          16.395903   \n",
       "4    2019-10-09 19:09:31     1244.000000           0.200671   \n",
       "...                  ...             ...                ...   \n",
       "1719 2019-10-13 14:50:03     2310.462752           2.816567   \n",
       "1720 2019-10-13 14:53:15     2479.451670           0.020886   \n",
       "1721 2019-10-13 14:53:15     2480.700291           2.122695   \n",
       "1722 2019-10-13 14:55:15     2608.381327           5.695183   \n",
       "1723 2019-10-13 15:01:48     2950.101892          11.289709   \n",
       "\n",
       "                                   User ID  End Position  \n",
       "0     8ee54f28-a201-4095-8168-a864000a76e2    116.761616  \n",
       "1     8ee54f28-a201-4095-8168-a864000a76e2    208.429480  \n",
       "2     8ee54f28-a201-4095-8168-a864000a76e2    329.343236  \n",
       "3     8ee54f28-a201-4095-8168-a864000a76e2   1238.364491  \n",
       "4     8ee54f28-a201-4095-8168-a864000a76e2   1256.040280  \n",
       "...                                    ...           ...  \n",
       "1719  53e0fae6-1d50-40be-bb16-a98901165365   2479.456770  \n",
       "1720  53e0fae6-1d50-40be-bb16-a98901165365   2480.704840  \n",
       "1721  53e0fae6-1d50-40be-bb16-a98901165365   2608.061977  \n",
       "1722  53e0fae6-1d50-40be-bb16-a98901165365   2950.092305  \n",
       "1723  53e0fae6-1d50-40be-bb16-a98901165365   3627.484435  \n",
       "\n",
       "[1724 rows x 5 columns]"
      ]
     },
     "execution_count": 4,
     "metadata": {},
     "output_type": "execute_result"
    }
   ],
   "source": [
    "df"
   ]
  },
  {
   "cell_type": "code",
   "execution_count": 5,
   "metadata": {
    "ExecuteTime": {
     "end_time": "2019-11-06T07:52:50.193934Z",
     "start_time": "2019-11-06T07:52:49.792392Z"
    }
   },
   "outputs": [
    {
     "data": {
      "image/png": "[encoded data removed]",
      "text/plain": [
       "<Figure size 1080x360 with 1 Axes>"
      ]
     },
     "metadata": {
      "needs_background": "light"
     },
     "output_type": "display_data"
    }
   ],
   "source": [
    "user_ids = df['User ID'].unique()\n",
    "plot_session_intervals(df[df['User ID'] == user_ids[0]])"
   ]
  }
 ],
 "metadata": {
  "kernelspec": {
   "display_name": "Python 3",
   "language": "python",
   "name": "python3"
  },
  "language_info": {
   "codemirror_mode": {
    "name": "ipython",
    "version": 3
   },
   "file_extension": ".py",
   "mimetype": "text/x-python",
   "name": "python",
   "nbconvert_exporter": "python",
   "pygments_lexer": "ipython3",
   "version": "3.7.3"
  },
  "toc": {
   "base_numbering": 1,
   "nav_menu": {},
   "number_sections": true,
   "sideBar": true,
   "skip_h1_title": false,
   "title_cell": "Table of Contents",
   "title_sidebar": "Contents",
   "toc_cell": false,
   "toc_position": {},
   "toc_section_display": true,
   "toc_window_display": false
  },
  "varInspector": {
   "cols": {
    "lenName": 16,
    "lenType": 16,
    "lenVar": 40
   },
   "kernels_config": {
    "python": {
     "delete_cmd_postfix": "",
     "delete_cmd_prefix": "del ",
     "library": "var_list.py",
     "varRefreshCmd": "print(var_dic_list())"
    },
    "r": {
     "delete_cmd_postfix": ") ",
     "delete_cmd_prefix": "rm(",
     "library": "var_list.r",
     "varRefreshCmd": "cat(var_dic_list()) "
    }
   },
   "types_to_exclude": [
    "module",
    "function",
    "builtin_function_or_method",
    "instance",
    "_Feature"
   ],
   "window_display": false
  }
 },
 "nbformat": 4,
 "nbformat_minor": 2
}
