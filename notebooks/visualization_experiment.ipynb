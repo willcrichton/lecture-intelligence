{
 "cells": [
  {
   "cell_type": "code",
   "execution_count": 1,
   "metadata": {},
   "outputs": [],
   "source": [
    "%load_ext autoreload\n",
    "%autoreload 2"
   ]
  },
  {
   "cell_type": "code",
   "execution_count": 2,
   "metadata": {},
   "outputs": [],
   "source": [
    "import sys\n",
    "sys.path.append('..')\n",
    "from lib.vis import plot_session_intervals\n",
    "from lib.course import LECTURES, ASSIGNMENTS, IDX_TO_LECTURE, IDX_TO_ASSIGNMENT\n",
    "import numpy as np\n",
    "import matplotlib.pyplot as plt\n",
    "from datetime import timedelta, date\n",
    "import datetime as dt\n",
    "import pandas as pd\n",
    "import seaborn as sns"
   ]
  },
  {
   "cell_type": "code",
   "execution_count": 3,
   "metadata": {},
   "outputs": [],
   "source": [
    "lecture = LECTURES[4]\n",
    "df = lecture.viewing_data()\n",
    "vd = pd.concat([l.viewing_data() for l in LECTURES])\n"
   ]
  },
  {
   "cell_type": "code",
   "execution_count": 129,
   "metadata": {},
   "outputs": [],
   "source": [
    "def day_to_string(day):\n",
    "    print(day)\n",
    "    days = [\"M\", \"Tu\", \"W\", \"Th\", \"F\", \"Sat\", \"Sun\"]\n",
    "    return days[day]"
   ]
  },
  {
   "cell_type": "code",
   "execution_count": 140,
   "metadata": {},
   "outputs": [],
   "source": [
    "def plot_lectures(df,\n",
    "                  ax,\n",
    "                  minimum_mins=10,\n",
    "                  course_start=dt.datetime(2019, 9, 20),\n",
    "                  course_end=dt.datetime(2019, 12, 15)):\n",
    "    counts = []\n",
    "    start_date = course_start\n",
    "    end_date = course_end\n",
    "    daterange = pd.date_range(start_date, end_date)\n",
    "    \n",
    "    for date in daterange:\n",
    "        unique_users = df[df['time'].dt.date == date].groupby(\"user\")\n",
    "        exceeding_minimum_mins = unique_users.sum()[\"minutes\"] > minimum_mins\n",
    "        counts.append([date, exceeding_minimum_mins.shape[0]])\n",
    "    \n",
    "    ax.bar(np.array(counts)[:, 0], np.array(counts)[:, 1], alpha=0.3)\n",
    "    plt.draw()\n",
    "    labels = [item.get_text() + \" (\" + day_to_string(dt.datetime.strptime(item.get_text(),'%Y-%m-%d').weekday()) + \")\" for item in ax.get_xticklabels()]\n",
    "    ax.set_xticklabels(labels)\n",
    "\n",
    "    print(labels)\n",
    "    ax.set_xticklabels(ax.get_xticklabels(), rotation=90)\n",
    "    ax.set_ylabel('Number of students watching > 10 min of any lecture')\n",
    "    ax.set_title('Lecture viewing per day')"
   ]
  },
  {
   "cell_type": "code",
   "execution_count": 141,
   "metadata": {},
   "outputs": [],
   "source": [
    "def plot_assignment(vd, ax, assignment_index):\n",
    "    assignment = IDX_TO_ASSIGNMENT[int(assignment_index)]\n",
    "    lectures = assignment.lectures\n",
    "    count = 0\n",
    "    fig = ax.figure\n",
    "    fig.clf()\n",
    "    fig.set_size_inches(15, 5)\n",
    "\n",
    "    axs = fig.subplots(len(lectures),\n",
    "                       1,\n",
    "                       squeeze=False,\n",
    "                       sharex=True,\n",
    "                       sharey=True)\n",
    "\n",
    "    fig.suptitle(\n",
    "        f'Lecture viewing habits relative to deadline for \"{assignment.name}\"')\n",
    "    for lecture in lectures:\n",
    "        df = vd[vd.lecture == lecture]\n",
    "        plot_lectures(df, axs[count, 0])\n",
    "        axs[count, 0].axvline(x=assignment.duedate)\n",
    "        axs[count, 0].grid(True)\n",
    "        axs[count, 0].set_ylabel('')\n",
    "        axs[count, 0].set_title(\n",
    "            f'Lecture {lecture}: {IDX_TO_LECTURE[lecture].name}')\n",
    "        count += 1"
   ]
  },
  {
   "cell_type": "code",
   "execution_count": 143,
   "metadata": {
    "scrolled": false
   },
   "outputs": [
    {
     "name": "stdout",
     "output_type": "stream",
     "text": [
      "[]\n",
      "1\n",
      "1\n",
      "4\n",
      "4\n",
      "6\n",
      "6\n",
      "['2019-10-01 (Tu)', '2019-10-15 (Tu)', '2019-11-01 (F)', '2019-11-15 (F)', '2019-12-01 (Sun)', '2019-12-15 (Sun)']\n"
     ]
    },
    {
     "data": {
      "image/png": "[encoded data removed]",
      "text/plain": [
       "<Figure size 1080x360 with 2 Axes>"
      ]
     },
     "metadata": {},
     "output_type": "display_data"
    }
   ],
   "source": [
    "fig, ax = plt.subplots()\n",
    "\n",
    "plot_assignment(vd, ax,2)"
   ]
  },
  {
   "cell_type": "code",
   "execution_count": null,
   "metadata": {},
   "outputs": [],
   "source": []
  }
 ],
 "metadata": {
  "kernelspec": {
   "display_name": "Python 3",
   "language": "python",
   "name": "python3"
  },
  "language_info": {
   "codemirror_mode": {
    "name": "ipython",
    "version": 3
   },
   "file_extension": ".py",
   "mimetype": "text/x-python",
   "name": "python",
   "nbconvert_exporter": "python",
   "pygments_lexer": "ipython3",
   "version": "3.6.4"
  }
 },
 "nbformat": 4,
 "nbformat_minor": 2
}
